{
 "cells": [
  {
   "cell_type": "markdown",
   "metadata": {},
   "source": [
    "## Jacob Roach\n",
    "Make sure to put more information here!"
   ]
  },
  {
   "cell_type": "code",
   "execution_count": 1,
   "metadata": {},
   "outputs": [],
   "source": [
    "# Import the needed Packages.\n",
    "import pandas as pd"
   ]
  },
  {
   "cell_type": "markdown",
   "metadata": {},
   "source": []
  },
  {
   "cell_type": "code",
   "execution_count": 5,
   "metadata": {},
   "outputs": [],
   "source": [
    "# Read in the training data.\n",
    "data = pd.read_pickle(\"../data/back_up_data.pkl\")\n",
    "\n",
    "# I am still deciding what dataset to use..."
   ]
  },
  {
   "cell_type": "code",
   "execution_count": 7,
   "metadata": {},
   "outputs": [
    {
     "data": {
      "text/html": "<div>\n<style scoped>\n    .dataframe tbody tr th:only-of-type {\n        vertical-align: middle;\n    }\n\n    .dataframe tbody tr th {\n        vertical-align: top;\n    }\n\n    .dataframe thead th {\n        text-align: right;\n    }\n</style>\n<table border=\"1\" class=\"dataframe\">\n  <thead>\n    <tr style=\"text-align: right;\">\n      <th></th>\n      <th>bertified</th>\n      <th>increase</th>\n    </tr>\n  </thead>\n  <tbody>\n    <tr>\n      <th>2</th>\n      <td>[0.04822409898042679, -0.015833385288715363, 0...</td>\n      <td>1</td>\n    </tr>\n    <tr>\n      <th>3</th>\n      <td>[0.08190881460905075, 0.03084167279303074, -0....</td>\n      <td>1</td>\n    </tr>\n    <tr>\n      <th>8</th>\n      <td>[0.09046691656112671, -0.06422483175992966, 0....</td>\n      <td>1</td>\n    </tr>\n    <tr>\n      <th>9</th>\n      <td>[0.03809173032641411, 0.014239655807614326, -0...</td>\n      <td>1</td>\n    </tr>\n    <tr>\n      <th>12</th>\n      <td>[-0.049746137112379074, 0.010899393819272518, ...</td>\n      <td>1</td>\n    </tr>\n  </tbody>\n</table>\n</div>",
      "text/plain": "                                            bertified  increase\n2   [0.04822409898042679, -0.015833385288715363, 0...         1\n3   [0.08190881460905075, 0.03084167279303074, -0....         1\n8   [0.09046691656112671, -0.06422483175992966, 0....         1\n9   [0.03809173032641411, 0.014239655807614326, -0...         1\n12  [-0.049746137112379074, 0.010899393819272518, ...         1"
     },
     "execution_count": 7,
     "metadata": {},
     "output_type": "execute_result"
    }
   ],
   "source": [
    "# Investigate the head of the DataFrame.\n",
    "data.head()"
   ]
  },
  {
   "cell_type": "code",
   "execution_count": null,
   "metadata": {},
   "outputs": [],
   "source": []
  }
 ],
 "metadata": {
  "kernelspec": {
   "display_name": "Python 3.9.1 64-bit (conda)",
   "name": "python391jvsc74a57bd0db13ffbe8aa6bffc3d5adcde4eac30ed3a5e0a78aa00579cf62158167f2bd28d"
  },
  "language_info": {
   "codemirror_mode": {
    "name": "ipython",
    "version": 3
   },
   "file_extension": ".py",
   "mimetype": "text/x-python",
   "name": "python",
   "nbconvert_exporter": "python",
   "pygments_lexer": "ipython3",
   "version": "3.9.1"
  },
  "metadata": {
   "interpreter": {
    "hash": "5edc29c2ed010d6458d71a83433b383a96a8cbd3efe8531bc90c4b8a5b8bcec9"
   }
  },
  "orig_nbformat": 2
 },
 "nbformat": 4,
 "nbformat_minor": 2
}