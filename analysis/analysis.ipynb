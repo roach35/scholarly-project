{
 "cells": [
  {
   "cell_type": "markdown",
   "metadata": {},
   "source": [
    "## Jacob Roach"
   ]
  },
  {
   "cell_type": "code",
   "execution_count": 37,
   "metadata": {},
   "outputs": [],
   "source": [
    "# Import the needed Packages.\n",
    "import pandas as pd\n",
    "import numpy as np\n",
    "from sklearn.model_selection import train_test_split\n",
    "from sklearn.metrics import mean_squared_error\n",
    "import tensorflow as tf\n",
    "from tensorflow.keras import Input\n",
    "from tensorflow.keras.models import Model\n",
    "from tensorflow.keras.layers import Dense\n",
    "from tensorflow.keras.models import Sequential\n",
    "from tensorflow.keras.layers import LSTM\n",
    "from tensorflow.keras.models import load_model"
   ]
  },
  {
   "cell_type": "markdown",
   "metadata": {},
   "source": [
    "## Data Collection and Feature Engineering\n",
    "Before any modeling was performed, the necessary data was collected using two distinct platforms. The first data that was collected was Twitter data. This was done using the Twitter Developer API, as well as the `tweepy` module. Tweets containing the word \"bitcoin\" were streamed for several days. This data was written to a `.pkl` file, and saved for later feature engineering.\n",
    "\n",
    "The other data that was collected was the value of a single Bitcoin. During the same interval (plus twenty-four hours after the last Tweet was recorded) that the Twitter data was collected, the value of a Bitcoin was recorded each minute, along with the corresponding time stamp.\n",
    "\n",
    "Once the Twitter and Bitcoin data was recorded, further feature engineering was employed. For each Tweet stored, the corresponding price of Bitcoin at the time the Tweet was made was added as the `inital_price` for the Tweet. Then, for each Tweet, if the price of Bitcoin increased within twenty-four hours of the time the Tweet was made, the feature `increase` was assigned a value of `1`. Otherwise, `increase` is assigned the value of `0`.\n",
    "\n",
    "Finally, for each Tweet recorded, the text of that Tweet is cleaned and standardized. This cleaned Tweet is then BERTified, and a vector of length 512 is returned. This vector is stored as the `bertified` feature. Only the `bertified` and `increase` features are kept, and these form the training data to be used in this notebook."
   ]
  },
  {
   "cell_type": "code",
   "execution_count": 31,
   "metadata": {},
   "outputs": [],
   "source": [
    "# Read in the training data.\n",
    "data = pd.read_pickle(\"../data/training_data.pkl\")\n",
    "\n",
    "# Reset the index.\n",
    "data = data.reset_index(drop=True)\n",
    "\n",
    "# Convert each list to an array.\n",
    "data[\"bertified\"] = data[\"bertified\"].apply(lambda x: np.asarray(x))"
   ]
  },
  {
   "cell_type": "markdown",
   "metadata": {},
   "source": [
    "Once the training data has been read in, the data will be quickly inspected, to show the reader the nature of the dataset."
   ]
  },
  {
   "cell_type": "code",
   "execution_count": 26,
   "metadata": {},
   "outputs": [
    {
     "name": "stdout",
     "output_type": "stream",
     "text": [
      "There are 114233 rows in the DataFrame.\n",
      "There are 55912 records with an increase, and 58321 with a decrease.\n",
      "\n",
      "count    114233.000000\n",
      "mean          0.489456\n",
      "std           0.499891\n",
      "min           0.000000\n",
      "25%           0.000000\n",
      "50%           0.000000\n",
      "75%           1.000000\n",
      "max           1.000000\n",
      "Name: increase, dtype: float64\n"
     ]
    }
   ],
   "source": [
    "# Investigate the DataFrame.\n",
    "print(\"There are\", len(data), \"rows in the DataFrame.\")\n",
    "print(\"There are\", len(data.loc[data[\"increase\"] == 1, ]), \"records with an increase, and\", len(data.loc[data[\"increase\"] == 0, ]), \"with a decrease.\\n\")\n",
    "\n",
    "# Now, show the summary of the data.\n",
    "print(data[\"increase\"].describe())"
   ]
  },
  {
   "cell_type": "markdown",
   "metadata": {},
   "source": [
    "Now that the training data has been loaded, it can be partitioned into training and testing sets."
   ]
  },
  {
   "cell_type": "code",
   "execution_count": 61,
   "metadata": {},
   "outputs": [],
   "source": [
    "# Create training and testing.\n",
    "x_train, x_test, y_train, y_test = train_test_split(data[\"bertified\"], data[\"increase\"], test_size=.10)\n",
    "\n",
    "# Conver to Tensors.\n",
    "x_train = tf.convert_to_tensor(x_train.to_list())\n",
    "y_train = tf.convert_to_tensor(y_train.to_list())\n",
    "x_test = tf.convert_to_tensor(x_test.to_list())\n",
    "y_test = tf.convert_to_tensor(y_test.to_list())"
   ]
  },
  {
   "cell_type": "code",
   "execution_count": 72,
   "metadata": {},
   "outputs": [
    {
     "name": "stdout",
     "output_type": "stream",
     "text": [
      "Epoch 1/40\n",
      "3213/3213 [==============================] - 13s 4ms/step - loss: 0.6798 - accuracy: 0.5467 - val_loss: 0.6619 - val_accuracy: 0.5769\n",
      "Epoch 2/40\n",
      "3213/3213 [==============================] - 7s 2ms/step - loss: 0.6479 - accuracy: 0.5983 - val_loss: 0.6486 - val_accuracy: 0.5861\n",
      "Epoch 3/40\n",
      "3213/3213 [==============================] - 7s 2ms/step - loss: 0.6246 - accuracy: 0.6287 - val_loss: 0.6463 - val_accuracy: 0.5907\n",
      "Epoch 4/40\n",
      "3213/3213 [==============================] - 7s 2ms/step - loss: 0.6073 - accuracy: 0.6485 - val_loss: 0.6434 - val_accuracy: 0.5926\n",
      "Epoch 5/40\n",
      "3213/3213 [==============================] - 7s 2ms/step - loss: 0.5900 - accuracy: 0.6679 - val_loss: 0.6477 - val_accuracy: 0.5961\n",
      "Epoch 6/40\n",
      "3213/3213 [==============================] - 7s 2ms/step - loss: 0.5699 - accuracy: 0.6864 - val_loss: 0.6517 - val_accuracy: 0.5949\n",
      "Epoch 7/40\n",
      "3213/3213 [==============================] - 8s 2ms/step - loss: 0.5516 - accuracy: 0.7040 - val_loss: 0.6552 - val_accuracy: 0.5973\n",
      "Epoch 8/40\n",
      "3213/3213 [==============================] - 7s 2ms/step - loss: 0.5422 - accuracy: 0.7109 - val_loss: 0.6658 - val_accuracy: 0.5966\n",
      "Epoch 9/40\n",
      "3213/3213 [==============================] - 8s 2ms/step - loss: 0.5277 - accuracy: 0.7229 - val_loss: 0.6759 - val_accuracy: 0.5997\n",
      "Epoch 10/40\n",
      "3213/3213 [==============================] - 8s 2ms/step - loss: 0.5126 - accuracy: 0.7343 - val_loss: 0.6824 - val_accuracy: 0.5989\n",
      "Epoch 11/40\n",
      "3213/3213 [==============================] - 8s 2ms/step - loss: 0.4999 - accuracy: 0.7452 - val_loss: 0.6876 - val_accuracy: 0.6047\n",
      "Epoch 12/40\n",
      "3213/3213 [==============================] - 8s 2ms/step - loss: 0.4920 - accuracy: 0.7495 - val_loss: 0.7027 - val_accuracy: 0.6048\n",
      "Epoch 13/40\n",
      "3213/3213 [==============================] - 8s 2ms/step - loss: 0.4827 - accuracy: 0.7546 - val_loss: 0.7043 - val_accuracy: 0.6041\n",
      "Epoch 14/40\n",
      "3213/3213 [==============================] - 8s 2ms/step - loss: 0.4723 - accuracy: 0.7594 - val_loss: 0.7161 - val_accuracy: 0.6063\n",
      "Epoch 15/40\n",
      "3213/3213 [==============================] - 8s 2ms/step - loss: 0.4614 - accuracy: 0.7681 - val_loss: 0.7262 - val_accuracy: 0.6064\n",
      "Epoch 16/40\n",
      "3213/3213 [==============================] - 8s 2ms/step - loss: 0.4525 - accuracy: 0.7731 - val_loss: 0.7348 - val_accuracy: 0.6090\n",
      "Epoch 17/40\n",
      "3213/3213 [==============================] - 8s 2ms/step - loss: 0.4446 - accuracy: 0.7799 - val_loss: 0.7501 - val_accuracy: 0.6132\n",
      "Epoch 18/40\n",
      "3213/3213 [==============================] - 8s 2ms/step - loss: 0.4386 - accuracy: 0.7814 - val_loss: 0.7603 - val_accuracy: 0.6089\n",
      "Epoch 19/40\n",
      "3213/3213 [==============================] - 8s 3ms/step - loss: 0.4323 - accuracy: 0.7858 - val_loss: 0.7742 - val_accuracy: 0.6105\n",
      "Epoch 20/40\n",
      "3213/3213 [==============================] - 8s 3ms/step - loss: 0.4244 - accuracy: 0.7911 - val_loss: 0.7830 - val_accuracy: 0.6094\n",
      "Epoch 21/40\n",
      "3213/3213 [==============================] - 8s 2ms/step - loss: 0.4184 - accuracy: 0.7939 - val_loss: 0.7885 - val_accuracy: 0.6129\n",
      "Epoch 22/40\n",
      "3213/3213 [==============================] - 8s 2ms/step - loss: 0.4103 - accuracy: 0.7978 - val_loss: 0.7993 - val_accuracy: 0.6116\n",
      "Epoch 23/40\n",
      "3213/3213 [==============================] - 8s 3ms/step - loss: 0.4080 - accuracy: 0.7989 - val_loss: 0.8090 - val_accuracy: 0.6094\n",
      "Epoch 24/40\n",
      "3213/3213 [==============================] - 8s 2ms/step - loss: 0.4006 - accuracy: 0.8058 - val_loss: 0.8215 - val_accuracy: 0.6104\n",
      "Epoch 25/40\n",
      "3213/3213 [==============================] - 8s 3ms/step - loss: 0.3954 - accuracy: 0.8098 - val_loss: 0.8320 - val_accuracy: 0.6085\n",
      "Epoch 26/40\n",
      "3213/3213 [==============================] - 8s 3ms/step - loss: 0.3929 - accuracy: 0.8074 - val_loss: 0.8580 - val_accuracy: 0.6090\n",
      "Epoch 27/40\n",
      "3213/3213 [==============================] - 8s 3ms/step - loss: 0.3874 - accuracy: 0.8100 - val_loss: 0.8611 - val_accuracy: 0.6113\n",
      "Epoch 28/40\n",
      "3213/3213 [==============================] - 8s 3ms/step - loss: 0.3832 - accuracy: 0.8134 - val_loss: 0.8659 - val_accuracy: 0.6094\n",
      "Epoch 29/40\n",
      "3213/3213 [==============================] - 8s 3ms/step - loss: 0.3786 - accuracy: 0.8160 - val_loss: 0.8809 - val_accuracy: 0.6119\n",
      "Epoch 30/40\n",
      "3213/3213 [==============================] - 8s 3ms/step - loss: 0.3724 - accuracy: 0.8184 - val_loss: 0.8809 - val_accuracy: 0.6106\n",
      "Epoch 31/40\n",
      "3213/3213 [==============================] - 8s 3ms/step - loss: 0.3674 - accuracy: 0.8215 - val_loss: 0.8888 - val_accuracy: 0.6128\n",
      "Epoch 32/40\n",
      "3213/3213 [==============================] - 9s 3ms/step - loss: 0.3667 - accuracy: 0.8213 - val_loss: 0.9091 - val_accuracy: 0.6095\n",
      "Epoch 33/40\n",
      "3213/3213 [==============================] - 8s 3ms/step - loss: 0.3619 - accuracy: 0.8228 - val_loss: 0.9253 - val_accuracy: 0.6112\n",
      "Epoch 34/40\n",
      "3213/3213 [==============================] - 8s 3ms/step - loss: 0.3584 - accuracy: 0.8283 - val_loss: 0.9296 - val_accuracy: 0.6132\n",
      "Epoch 35/40\n",
      "3213/3213 [==============================] - 9s 3ms/step - loss: 0.3559 - accuracy: 0.8286 - val_loss: 0.9413 - val_accuracy: 0.6106\n",
      "Epoch 36/40\n",
      "3213/3213 [==============================] - 9s 3ms/step - loss: 0.3557 - accuracy: 0.8274 - val_loss: 0.9520 - val_accuracy: 0.6127\n",
      "Epoch 37/40\n",
      "3213/3213 [==============================] - 9s 3ms/step - loss: 0.3493 - accuracy: 0.8307 - val_loss: 0.9730 - val_accuracy: 0.6048\n",
      "Epoch 38/40\n",
      "3213/3213 [==============================] - 9s 3ms/step - loss: 0.3459 - accuracy: 0.8342 - val_loss: 0.9699 - val_accuracy: 0.6094\n",
      "Epoch 39/40\n",
      "3213/3213 [==============================] - 8s 3ms/step - loss: 0.3413 - accuracy: 0.8336 - val_loss: 0.9841 - val_accuracy: 0.6101\n",
      "Epoch 40/40\n",
      "3213/3213 [==============================] - 8s 3ms/step - loss: 0.3412 - accuracy: 0.8352 - val_loss: 0.9956 - val_accuracy: 0.6112\n"
     ]
    },
    {
     "data": {
      "text/plain": "<tensorflow.python.keras.callbacks.History at 0x147b57d30>"
     },
     "execution_count": 72,
     "metadata": {},
     "output_type": "execute_result"
    }
   ],
   "source": [
    "# Train the model.\n",
    "input_layer = Input((512,))\n",
    "dense = Dense(128, activation=\"relu\")(input_layer)\n",
    "output = Dense(2, activation=\"softmax\")(dense)  # Output values is the number of classes.\n",
    "model = Model(input_layer, output)\n",
    "\n",
    "# Compile the model.\n",
    "model.compile(loss=\"sparse_categorical_crossentropy\", \n",
    "              optimizer=\"adam\",\n",
    "              metrics=[\"accuracy\"])\n",
    "\n",
    "# Fit the model.\n",
    "model.fit(x_train, y_train, epochs=40, validation_data=(x_test, y_test))"
   ]
  },
  {
   "cell_type": "code",
   "execution_count": 73,
   "metadata": {},
   "outputs": [
    {
     "name": "stdout",
     "output_type": "stream",
     "text": [
      "357/357 [==============================] - 1s 2ms/step - loss: 0.9956 - accuracy: 0.6112\n"
     ]
    },
    {
     "data": {
      "text/plain": "[0.9955877065658569, 0.6111694574356079]"
     },
     "execution_count": 73,
     "metadata": {},
     "output_type": "execute_result"
    }
   ],
   "source": [
    "# Test the model.\n",
    "model.evaluate(x=x_test, y=y_test)"
   ]
  },
  {
   "cell_type": "code",
   "execution_count": null,
   "metadata": {},
   "outputs": [],
   "source": []
  }
 ],
 "metadata": {
  "kernelspec": {
   "display_name": "Python 3.8.2 64-bit",
   "name": "python382jvsc74a57bd031f2aee4e71d21fbe5cf8b01ff0e069b9275f58929596ceb00d14d90e3e16cd6"
  },
  "language_info": {
   "codemirror_mode": {
    "name": "ipython",
    "version": 3
   },
   "file_extension": ".py",
   "mimetype": "text/x-python",
   "name": "python",
   "nbconvert_exporter": "python",
   "pygments_lexer": "ipython3",
   "version": "3.8.2"
  },
  "metadata": {
   "interpreter": {
    "hash": "31f2aee4e71d21fbe5cf8b01ff0e069b9275f58929596ceb00d14d90e3e16cd6"
   }
  },
  "orig_nbformat": 2
 },
 "nbformat": 4,
 "nbformat_minor": 2
}