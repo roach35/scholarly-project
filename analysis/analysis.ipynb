{
 "cells": [
  {
   "cell_type": "markdown",
   "metadata": {},
   "source": [
    "## Jacob Roach"
   ]
  },
  {
   "cell_type": "code",
   "execution_count": 1,
   "metadata": {},
   "outputs": [],
   "source": [
    "# Import the needed Packages.\n",
    "import pandas as pd\n",
    "import numpy as np\n",
    "from sklearn.model_selection import train_test_split\n",
    "from sklearn.metrics import mean_squared_error\n",
    "import tensorflow as tf\n",
    "from tensorflow.keras import Input\n",
    "from tensorflow.keras.models import Model, Sequential, load_model\n",
    "from tensorflow.keras.layers import Dense, LSTM"
   ]
  },
  {
   "cell_type": "markdown",
   "metadata": {},
   "source": [
    "## Data Collection and Feature Engineering\n",
    "Before any modeling was performed, the necessary data was collected using two distinct platforms. The first data that was collected was Twitter data. This was done using the Twitter Developer API, as well as the `tweepy` module. Tweets containing the word \"bitcoin\" were streamed for several days. This data was written to a `.pkl` file, and saved for later feature engineering.\n",
    "\n",
    "The other data that was collected was the value of a single Bitcoin. During the same interval (plus twenty-four hours after the last Tweet was recorded) that the Twitter data was collected, the value of a Bitcoin was recorded each minute, along with the corresponding time stamp.\n",
    "\n",
    "Once the Twitter and Bitcoin data was recorded, further feature engineering was employed. For each Tweet stored, the corresponding price of Bitcoin at the time the Tweet was made was added as the `inital_price` for the Tweet. Then, for each Tweet, if the price of Bitcoin increased within twenty-four hours of the time the Tweet was made, the feature `increase` was assigned a value of `1`. Otherwise, `increase` is assigned the value of `0`.\n",
    "\n",
    "Finally, for each Tweet recorded, the text of that Tweet is cleaned and standardized. This cleaned Tweet is then BERTified, and a vector of length 512 is returned. This vector is stored as the `bertified` feature. Only the `bertified` and `increase` features are kept, and these form the training data to be used in this notebook."
   ]
  },
  {
   "cell_type": "code",
   "execution_count": 2,
   "metadata": {},
   "outputs": [],
   "source": [
    "# Read in the training data.\n",
    "data = pd.read_pickle(\"../data/training_data.pkl\")\n",
    "\n",
    "# Reset the index.\n",
    "data = data.reset_index(drop=True)\n",
    "\n",
    "# Convert each list to an array.\n",
    "data[\"bertified\"] = data[\"bertified\"].apply(lambda x: np.asarray(x))"
   ]
  },
  {
   "cell_type": "markdown",
   "metadata": {},
   "source": [
    "Once the training data has been read in, the data will be quickly inspected, to show the reader the nature of the dataset."
   ]
  },
  {
   "cell_type": "code",
   "execution_count": 3,
   "metadata": {},
   "outputs": [
    {
     "name": "stdout",
     "output_type": "stream",
     "text": [
      "There are 114233 rows in the DataFrame.\n",
      "There are 55912 records with an increase, and 58321 with a decrease.\n",
      "\n",
      "count    114233.000000\n",
      "mean          0.489456\n",
      "std           0.499891\n",
      "min           0.000000\n",
      "25%           0.000000\n",
      "50%           0.000000\n",
      "75%           1.000000\n",
      "max           1.000000\n",
      "Name: increase, dtype: float64\n"
     ]
    }
   ],
   "source": [
    "# Investigate the DataFrame.\n",
    "print(\"There are\", len(data), \"rows in the DataFrame.\")\n",
    "print(\"There are\", len(data.loc[data[\"increase\"] == 1, ]), \"records with an increase, and\", len(data.loc[data[\"increase\"] == 0, ]), \"with a decrease.\\n\")\n",
    "\n",
    "# Now, show the summary of the data.\n",
    "print(data[\"increase\"].describe())"
   ]
  },
  {
   "cell_type": "markdown",
   "metadata": {},
   "source": [
    "Now that the training data has been loaded, it can be partitioned into training and testing sets."
   ]
  },
  {
   "cell_type": "code",
   "execution_count": 4,
   "metadata": {},
   "outputs": [
    {
     "name": "stderr",
     "output_type": "stream",
     "text": [
      "2022-03-21 19:47:09.456878: I tensorflow/core/platform/cpu_feature_guard.cc:151] This TensorFlow binary is optimized with oneAPI Deep Neural Network Library (oneDNN) to use the following CPU instructions in performance-critical operations:  SSE4.1 SSE4.2 AVX AVX2 AVX512F FMA\n",
      "To enable them in other operations, rebuild TensorFlow with the appropriate compiler flags.\n"
     ]
    }
   ],
   "source": [
    "# Create training and testing.\n",
    "x_train, x_test, y_train, y_test = train_test_split(data[\"bertified\"], data[\"increase\"], test_size=.10)\n",
    "\n",
    "# Conver to Tensors.\n",
    "x_train = tf.convert_to_tensor(x_train.to_list())\n",
    "y_train = tf.convert_to_tensor(y_train.to_list())\n",
    "x_test = tf.convert_to_tensor(x_test.to_list())\n",
    "y_test = tf.convert_to_tensor(y_test.to_list())"
   ]
  },
  {
   "cell_type": "code",
   "execution_count": 5,
   "metadata": {},
   "outputs": [
    {
     "name": "stdout",
     "output_type": "stream",
     "text": [
      "Epoch 1/40\n",
      "3213/3213 [==============================] - 6s 2ms/step - loss: 0.6719 - accuracy: 0.5587 - val_loss: 0.6612 - val_accuracy: 0.5755\n",
      "Epoch 2/40\n",
      "3213/3213 [==============================] - 5s 2ms/step - loss: 0.6454 - accuracy: 0.5994 - val_loss: 0.6468 - val_accuracy: 0.5927\n",
      "Epoch 3/40\n",
      "3213/3213 [==============================] - 5s 2ms/step - loss: 0.6255 - accuracy: 0.6252 - val_loss: 0.6442 - val_accuracy: 0.5955\n",
      "Epoch 4/40\n",
      "3213/3213 [==============================] - 5s 2ms/step - loss: 0.6076 - accuracy: 0.6473 - val_loss: 0.6425 - val_accuracy: 0.5996\n",
      "Epoch 5/40\n",
      "3213/3213 [==============================] - 5s 2ms/step - loss: 0.5910 - accuracy: 0.6648 - val_loss: 0.6489 - val_accuracy: 0.5989\n",
      "Epoch 6/40\n",
      "3213/3213 [==============================] - 5s 2ms/step - loss: 0.5756 - accuracy: 0.6804 - val_loss: 0.6505 - val_accuracy: 0.6028\n",
      "Epoch 7/40\n",
      "3213/3213 [==============================] - 5s 2ms/step - loss: 0.5607 - accuracy: 0.6949 - val_loss: 0.6574 - val_accuracy: 0.6022\n",
      "Epoch 8/40\n",
      "3213/3213 [==============================] - 5s 2ms/step - loss: 0.5472 - accuracy: 0.7052 - val_loss: 0.6655 - val_accuracy: 0.6028\n",
      "Epoch 9/40\n",
      "3213/3213 [==============================] - 5s 2ms/step - loss: 0.5352 - accuracy: 0.7155 - val_loss: 0.6745 - val_accuracy: 0.6100\n",
      "Epoch 10/40\n",
      "3213/3213 [==============================] - 5s 2ms/step - loss: 0.5233 - accuracy: 0.7233 - val_loss: 0.6792 - val_accuracy: 0.6043\n",
      "Epoch 11/40\n",
      "3213/3213 [==============================] - 5s 2ms/step - loss: 0.5119 - accuracy: 0.7332 - val_loss: 0.6927 - val_accuracy: 0.6031\n",
      "Epoch 12/40\n",
      "3213/3213 [==============================] - 5s 2ms/step - loss: 0.5021 - accuracy: 0.7392 - val_loss: 0.7012 - val_accuracy: 0.6133\n",
      "Epoch 13/40\n",
      "3213/3213 [==============================] - 5s 2ms/step - loss: 0.4922 - accuracy: 0.7448 - val_loss: 0.7139 - val_accuracy: 0.6080\n",
      "Epoch 14/40\n",
      "3213/3213 [==============================] - 5s 2ms/step - loss: 0.4827 - accuracy: 0.7522 - val_loss: 0.7149 - val_accuracy: 0.6132\n",
      "Epoch 15/40\n",
      "3213/3213 [==============================] - 5s 2ms/step - loss: 0.4745 - accuracy: 0.7560 - val_loss: 0.7308 - val_accuracy: 0.6106\n",
      "Epoch 16/40\n",
      "3213/3213 [==============================] - 6s 2ms/step - loss: 0.4656 - accuracy: 0.7633 - val_loss: 0.7384 - val_accuracy: 0.6104\n",
      "Epoch 17/40\n",
      "3213/3213 [==============================] - 6s 2ms/step - loss: 0.4582 - accuracy: 0.7675 - val_loss: 0.7472 - val_accuracy: 0.6123\n",
      "Epoch 18/40\n",
      "3213/3213 [==============================] - 5s 2ms/step - loss: 0.4506 - accuracy: 0.7719 - val_loss: 0.7564 - val_accuracy: 0.6116\n",
      "Epoch 19/40\n",
      "3213/3213 [==============================] - 5s 2ms/step - loss: 0.4437 - accuracy: 0.7766 - val_loss: 0.7777 - val_accuracy: 0.6043\n",
      "Epoch 20/40\n",
      "3213/3213 [==============================] - 5s 2ms/step - loss: 0.4373 - accuracy: 0.7804 - val_loss: 0.7867 - val_accuracy: 0.6076\n",
      "Epoch 21/40\n",
      "3213/3213 [==============================] - 6s 2ms/step - loss: 0.4303 - accuracy: 0.7847 - val_loss: 0.7925 - val_accuracy: 0.6071\n",
      "Epoch 22/40\n",
      "3213/3213 [==============================] - 6s 2ms/step - loss: 0.4250 - accuracy: 0.7885 - val_loss: 0.8100 - val_accuracy: 0.6092\n",
      "Epoch 23/40\n",
      "3213/3213 [==============================] - 5s 2ms/step - loss: 0.4189 - accuracy: 0.7905 - val_loss: 0.8246 - val_accuracy: 0.6035\n",
      "Epoch 24/40\n",
      "3213/3213 [==============================] - 5s 2ms/step - loss: 0.4138 - accuracy: 0.7945 - val_loss: 0.8202 - val_accuracy: 0.6123\n",
      "Epoch 25/40\n",
      "3213/3213 [==============================] - 5s 2ms/step - loss: 0.4093 - accuracy: 0.7965 - val_loss: 0.8299 - val_accuracy: 0.6120\n",
      "Epoch 26/40\n",
      "3213/3213 [==============================] - 5s 2ms/step - loss: 0.4040 - accuracy: 0.8007 - val_loss: 0.8494 - val_accuracy: 0.6030\n",
      "Epoch 27/40\n",
      "3213/3213 [==============================] - 5s 2ms/step - loss: 0.3993 - accuracy: 0.8029 - val_loss: 0.8656 - val_accuracy: 0.6112\n",
      "Epoch 28/40\n",
      "3213/3213 [==============================] - 5s 2ms/step - loss: 0.3938 - accuracy: 0.8052 - val_loss: 0.8754 - val_accuracy: 0.6113\n",
      "Epoch 29/40\n",
      "3213/3213 [==============================] - 5s 2ms/step - loss: 0.3897 - accuracy: 0.8081 - val_loss: 0.8877 - val_accuracy: 0.6089\n",
      "Epoch 30/40\n",
      "3213/3213 [==============================] - 5s 2ms/step - loss: 0.3858 - accuracy: 0.8088 - val_loss: 0.8921 - val_accuracy: 0.6132\n",
      "Epoch 31/40\n",
      "3213/3213 [==============================] - 5s 2ms/step - loss: 0.3818 - accuracy: 0.8120 - val_loss: 0.9040 - val_accuracy: 0.6106\n",
      "Epoch 32/40\n",
      "3213/3213 [==============================] - 5s 2ms/step - loss: 0.3782 - accuracy: 0.8132 - val_loss: 0.9127 - val_accuracy: 0.6189\n",
      "Epoch 33/40\n",
      "3213/3213 [==============================] - 5s 2ms/step - loss: 0.3735 - accuracy: 0.8159 - val_loss: 0.9228 - val_accuracy: 0.6114\n",
      "Epoch 34/40\n",
      "3213/3213 [==============================] - 5s 2ms/step - loss: 0.3700 - accuracy: 0.8170 - val_loss: 0.9366 - val_accuracy: 0.6141\n",
      "Epoch 35/40\n",
      "3213/3213 [==============================] - 6s 2ms/step - loss: 0.3668 - accuracy: 0.8205 - val_loss: 0.9473 - val_accuracy: 0.6127\n",
      "Epoch 36/40\n",
      "3213/3213 [==============================] - 6s 2ms/step - loss: 0.3641 - accuracy: 0.8207 - val_loss: 0.9627 - val_accuracy: 0.6108\n",
      "Epoch 37/40\n",
      "3213/3213 [==============================] - 6s 2ms/step - loss: 0.3606 - accuracy: 0.8228 - val_loss: 0.9751 - val_accuracy: 0.6119\n",
      "Epoch 38/40\n",
      "3213/3213 [==============================] - 6s 2ms/step - loss: 0.3576 - accuracy: 0.8245 - val_loss: 0.9889 - val_accuracy: 0.6092\n",
      "Epoch 39/40\n",
      "3213/3213 [==============================] - 6s 2ms/step - loss: 0.3541 - accuracy: 0.8268 - val_loss: 0.9916 - val_accuracy: 0.6167\n",
      "Epoch 40/40\n",
      "3213/3213 [==============================] - 5s 2ms/step - loss: 0.3527 - accuracy: 0.8270 - val_loss: 0.9972 - val_accuracy: 0.6142\n"
     ]
    },
    {
     "data": {
      "text/plain": [
       "<keras.callbacks.History at 0x162954820>"
      ]
     },
     "execution_count": 5,
     "metadata": {},
     "output_type": "execute_result"
    }
   ],
   "source": [
    "# Train the model.\n",
    "input_layer = Input((512,))\n",
    "dense = Dense(128, activation=\"relu\")(input_layer)\n",
    "output = Dense(2, activation=\"softmax\")(dense)  # Output values is the number of classes.\n",
    "model = Model(input_layer, output)\n",
    "\n",
    "# Compile the model.\n",
    "model.compile(loss=\"sparse_categorical_crossentropy\", \n",
    "              optimizer=\"adam\",\n",
    "              metrics=[\"accuracy\"])\n",
    "\n",
    "# Fit the model.\n",
    "model.fit(x_train, y_train, epochs=40, validation_data=(x_test, y_test))"
   ]
  },
  {
   "cell_type": "code",
   "execution_count": 6,
   "metadata": {},
   "outputs": [
    {
     "name": "stdout",
     "output_type": "stream",
     "text": [
      "357/357 [==============================] - 1s 1ms/step - loss: 0.9972 - accuracy: 0.6142\n"
     ]
    },
    {
     "data": {
      "text/plain": [
       "[0.9972397685050964, 0.6142331957817078]"
      ]
     },
     "execution_count": 6,
     "metadata": {},
     "output_type": "execute_result"
    }
   ],
   "source": [
    "# Test the model.\n",
    "model.evaluate(x=x_test, y=y_test)"
   ]
  },
  {
   "cell_type": "code",
   "execution_count": 7,
   "metadata": {},
   "outputs": [
    {
     "data": {
      "text/html": [
       "<div>\n",
       "<style scoped>\n",
       "    .dataframe tbody tr th:only-of-type {\n",
       "        vertical-align: middle;\n",
       "    }\n",
       "\n",
       "    .dataframe tbody tr th {\n",
       "        vertical-align: top;\n",
       "    }\n",
       "\n",
       "    .dataframe thead th {\n",
       "        text-align: right;\n",
       "    }\n",
       "</style>\n",
       "<table border=\"1\" class=\"dataframe\">\n",
       "  <thead>\n",
       "    <tr style=\"text-align: right;\">\n",
       "      <th></th>\n",
       "      <th>bertified</th>\n",
       "      <th>increase</th>\n",
       "    </tr>\n",
       "  </thead>\n",
       "  <tbody>\n",
       "    <tr>\n",
       "      <th>0</th>\n",
       "      <td>[0.04822409898042679, -0.015833385288715363, 0...</td>\n",
       "      <td>1</td>\n",
       "    </tr>\n",
       "    <tr>\n",
       "      <th>1</th>\n",
       "      <td>[0.08190881460905075, 0.03084167279303074, -0....</td>\n",
       "      <td>1</td>\n",
       "    </tr>\n",
       "    <tr>\n",
       "      <th>2</th>\n",
       "      <td>[0.09046691656112671, -0.06422483175992966, 0....</td>\n",
       "      <td>1</td>\n",
       "    </tr>\n",
       "    <tr>\n",
       "      <th>3</th>\n",
       "      <td>[0.03809173032641411, 0.014239655807614326, -0...</td>\n",
       "      <td>1</td>\n",
       "    </tr>\n",
       "    <tr>\n",
       "      <th>4</th>\n",
       "      <td>[-0.049746137112379074, 0.010899393819272518, ...</td>\n",
       "      <td>1</td>\n",
       "    </tr>\n",
       "  </tbody>\n",
       "</table>\n",
       "</div>"
      ],
      "text/plain": [
       "                                           bertified  increase\n",
       "0  [0.04822409898042679, -0.015833385288715363, 0...         1\n",
       "1  [0.08190881460905075, 0.03084167279303074, -0....         1\n",
       "2  [0.09046691656112671, -0.06422483175992966, 0....         1\n",
       "3  [0.03809173032641411, 0.014239655807614326, -0...         1\n",
       "4  [-0.049746137112379074, 0.010899393819272518, ...         1"
      ]
     },
     "execution_count": 7,
     "metadata": {},
     "output_type": "execute_result"
    }
   ],
   "source": [
    "# Check out the DataFrame.\n",
    "data.head()"
   ]
  },
  {
   "cell_type": "code",
   "execution_count": null,
   "metadata": {},
   "outputs": [],
   "source": []
  }
 ],
 "metadata": {
  "interpreter": {
   "hash": "4e5788945c2802237ac72a84c772d7bec8af624c1002577fbf4f87a46c8d1d03"
  },
  "kernelspec": {
   "display_name": "Python 3.8.2 64-bit",
   "language": "python",
   "name": "python3"
  },
  "language_info": {
   "codemirror_mode": {
    "name": "ipython",
    "version": 3
   },
   "file_extension": ".py",
   "mimetype": "text/x-python",
   "name": "python",
   "nbconvert_exporter": "python",
   "pygments_lexer": "ipython3",
   "version": "3.9.10"
  },
  "metadata": {
   "interpreter": {
    "hash": "31f2aee4e71d21fbe5cf8b01ff0e069b9275f58929596ceb00d14d90e3e16cd6"
   }
  },
  "orig_nbformat": 2
 },
 "nbformat": 4,
 "nbformat_minor": 2
}
