{
 "cells": [
  {
   "cell_type": "code",
   "execution_count": 9,
   "metadata": {},
   "outputs": [],
   "source": [
    "# Import packages.\n",
    "import pandas as pd\n",
    "import numpy as np\n",
    "from datetime import timedelta"
   ]
  },
  {
   "cell_type": "code",
   "execution_count": 13,
   "metadata": {},
   "outputs": [],
   "source": [
    "# Read in the data.\n",
    "crypto = pd.read_pickle(\"../data/3_9_crypto.pkl\")\n",
    "tweets = pd.read_pickle(\"../data/3_24_bert_data.pkl\")"
   ]
  },
  {
   "cell_type": "code",
   "execution_count": 14,
   "metadata": {},
   "outputs": [],
   "source": [
    "# Define a function.\n",
    "def get_max(min_stamp, price):\n",
    "    max_stamp = min_stamp + timedelta(hours=12)  ## CHANGE HERE.\n",
    "    mask = (crypto[\"stamp\"] > min_stamp) & (crypto[\"stamp\"] < max_stamp)\n",
    "    sub_df = crypto.loc[mask]\n",
    "    max_price = sub_df.price.max()\n",
    "\n",
    "    # Create the difference.\n",
    "    difference = (max_price - price) / price\n",
    "    \n",
    "    # Return. CHANGE HERE.\n",
    "    if difference > .0025:\n",
    "        return 1\n",
    "    else:\n",
    "        return 0\n",
    "\n",
    "# Apply the function.\n",
    "crypto[\"increase\"] = crypto.apply(lambda x: get_max(x[0], x[2]), axis=1)"
   ]
  },
  {
   "cell_type": "code",
   "execution_count": 15,
   "metadata": {},
   "outputs": [],
   "source": [
    "# Join the data.\n",
    "training_data = tweets.merge(crypto, left_on=\"time\", right_on=\"stamp\")\n",
    "training_data = training_data.set_index(\"tweet_id\")\n",
    "training_data = training_data.loc[:, [\"time\", \"tweet\", \"embedding\", \"increase\"]]\n",
    "\n",
    "# Write the file.\n",
    "training_data.to_pickle(\"../data/3_25_training_data.pkl\")"
   ]
  },
  {
   "cell_type": "code",
   "execution_count": null,
   "metadata": {},
   "outputs": [],
   "source": []
  }
 ],
 "metadata": {
  "interpreter": {
   "hash": "4e5788945c2802237ac72a84c772d7bec8af624c1002577fbf4f87a46c8d1d03"
  },
  "kernelspec": {
   "display_name": "Python 3.9.1 64-bit ('scholarly_project': conda)",
   "name": "python391jvsc74a57bd0bec8622bf30164f87f5685ebe98ae91d7fd7e93d67ef4c01423e53cab45c9e9c"
  },
  "language_info": {
   "codemirror_mode": {
    "name": "ipython",
    "version": 3
   },
   "file_extension": ".py",
   "mimetype": "text/x-python",
   "name": "python",
   "nbconvert_exporter": "python",
   "pygments_lexer": "ipython3",
   "version": "3.9.1"
  },
  "orig_nbformat": 4
 },
 "nbformat": 4,
 "nbformat_minor": 2
}