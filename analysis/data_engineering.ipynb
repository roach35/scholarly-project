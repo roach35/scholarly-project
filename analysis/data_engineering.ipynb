{
 "cells": [
  {
   "cell_type": "code",
   "execution_count": 152,
   "metadata": {},
   "outputs": [],
   "source": [
    "# Import packages.\n",
    "import pandas as pd\n",
    "from datetime import timedelta"
   ]
  },
  {
   "cell_type": "code",
   "execution_count": 153,
   "metadata": {},
   "outputs": [],
   "source": [
    "# Read in the data.\n",
    "crypto = pd.read_pickle(\"../data/crypto_3_9.pkl\")\n",
    "tweets = pd.read_pickle(\"../data/tweets_3_9.pkl\")"
   ]
  },
  {
   "cell_type": "code",
   "execution_count": 154,
   "metadata": {},
   "outputs": [
    {
     "data": {
      "text/html": [
       "<div>\n",
       "<style scoped>\n",
       "    .dataframe tbody tr th:only-of-type {\n",
       "        vertical-align: middle;\n",
       "    }\n",
       "\n",
       "    .dataframe tbody tr th {\n",
       "        vertical-align: top;\n",
       "    }\n",
       "\n",
       "    .dataframe thead th {\n",
       "        text-align: right;\n",
       "    }\n",
       "</style>\n",
       "<table border=\"1\" class=\"dataframe\">\n",
       "  <thead>\n",
       "    <tr style=\"text-align: right;\">\n",
       "      <th></th>\n",
       "      <th>stamp</th>\n",
       "      <th>crypto</th>\n",
       "      <th>price</th>\n",
       "      <th>increase</th>\n",
       "    </tr>\n",
       "  </thead>\n",
       "  <tbody>\n",
       "    <tr>\n",
       "      <th>0</th>\n",
       "      <td>2022-02-16 09:13:00</td>\n",
       "      <td>BTC/USD</td>\n",
       "      <td>43677.5</td>\n",
       "      <td>0</td>\n",
       "    </tr>\n",
       "    <tr>\n",
       "      <th>1</th>\n",
       "      <td>2022-02-16 09:14:00</td>\n",
       "      <td>BTC/USD</td>\n",
       "      <td>43677.5</td>\n",
       "      <td>0</td>\n",
       "    </tr>\n",
       "    <tr>\n",
       "      <th>2</th>\n",
       "      <td>2022-02-16 09:15:00</td>\n",
       "      <td>BTC/USD</td>\n",
       "      <td>43677.5</td>\n",
       "      <td>0</td>\n",
       "    </tr>\n",
       "  </tbody>\n",
       "</table>\n",
       "</div>"
      ],
      "text/plain": [
       "                stamp   crypto    price  increase\n",
       "0 2022-02-16 09:13:00  BTC/USD  43677.5         0\n",
       "1 2022-02-16 09:14:00  BTC/USD  43677.5         0\n",
       "2 2022-02-16 09:15:00  BTC/USD  43677.5         0"
      ]
     },
     "execution_count": 154,
     "metadata": {},
     "output_type": "execute_result"
    }
   ],
   "source": [
    "# Define a function.\n",
    "def get_max(min_stamp, price):\n",
    "    max_stamp = min_stamp + timedelta(hours=3)\n",
    "    mask = (crypto[\"stamp\"] > min_stamp) & (crypto[\"stamp\"] < max_stamp)\n",
    "    sub_df = crypto.loc[mask]\n",
    "    max_price = sub_df.price.max()\n",
    "\n",
    "    # Create the difference.\n",
    "    difference = (max_price - price) / price\n",
    "    \n",
    "    # Return. THIS IS IMPORTANT.\n",
    "    if difference > .0025:\n",
    "        return 1\n",
    "    else:\n",
    "        return 0\n",
    "\n",
    "# Apply the function.\n",
    "crypto[\"increase\"] = crypto.apply(lambda x: get_max(x[0], x[2]), axis=1)\n",
    "crypto.head(3)"
   ]
  },
  {
   "cell_type": "code",
   "execution_count": 155,
   "metadata": {},
   "outputs": [
    {
     "data": {
      "text/html": [
       "<div>\n",
       "<style scoped>\n",
       "    .dataframe tbody tr th:only-of-type {\n",
       "        vertical-align: middle;\n",
       "    }\n",
       "\n",
       "    .dataframe tbody tr th {\n",
       "        vertical-align: top;\n",
       "    }\n",
       "\n",
       "    .dataframe thead th {\n",
       "        text-align: right;\n",
       "    }\n",
       "</style>\n",
       "<table border=\"1\" class=\"dataframe\">\n",
       "  <thead>\n",
       "    <tr style=\"text-align: right;\">\n",
       "      <th></th>\n",
       "      <th>time</th>\n",
       "      <th>tweet</th>\n",
       "      <th>increase</th>\n",
       "    </tr>\n",
       "    <tr>\n",
       "      <th>tweet_id</th>\n",
       "      <th></th>\n",
       "      <th></th>\n",
       "      <th></th>\n",
       "    </tr>\n",
       "  </thead>\n",
       "  <tbody>\n",
       "    <tr>\n",
       "      <th>348440</th>\n",
       "      <td>2022-02-17 19:26:00</td>\n",
       "      <td>just in - fbi to form national cryptocurrency ...</td>\n",
       "      <td>0</td>\n",
       "    </tr>\n",
       "    <tr>\n",
       "      <th>348441</th>\n",
       "      <td>2022-02-17 19:26:00</td>\n",
       "      <td>bitcoin is a bank that will never lock you out...</td>\n",
       "      <td>0</td>\n",
       "    </tr>\n",
       "    <tr>\n",
       "      <th>348442</th>\n",
       "      <td>2022-02-17 19:26:00</td>\n",
       "      <td>$btc double top validates at 41.5k. lots of be...</td>\n",
       "      <td>0</td>\n",
       "    </tr>\n",
       "    <tr>\n",
       "      <th>348443</th>\n",
       "      <td>2022-02-17 19:26:00</td>\n",
       "      <td>signal spreading - opt out with bitcoin</td>\n",
       "      <td>0</td>\n",
       "    </tr>\n",
       "    <tr>\n",
       "      <th>348444</th>\n",
       "      <td>2022-02-17 19:26:00</td>\n",
       "      <td>bitcoin doesnt solve this</td>\n",
       "      <td>0</td>\n",
       "    </tr>\n",
       "  </tbody>\n",
       "</table>\n",
       "</div>"
      ],
      "text/plain": [
       "                        time  \\\n",
       "tweet_id                       \n",
       "348440   2022-02-17 19:26:00   \n",
       "348441   2022-02-17 19:26:00   \n",
       "348442   2022-02-17 19:26:00   \n",
       "348443   2022-02-17 19:26:00   \n",
       "348444   2022-02-17 19:26:00   \n",
       "\n",
       "                                                      tweet  increase  \n",
       "tweet_id                                                               \n",
       "348440    just in - fbi to form national cryptocurrency ...         0  \n",
       "348441    bitcoin is a bank that will never lock you out...         0  \n",
       "348442    $btc double top validates at 41.5k. lots of be...         0  \n",
       "348443              signal spreading - opt out with bitcoin         0  \n",
       "348444                            bitcoin doesnt solve this         0  "
      ]
     },
     "execution_count": 155,
     "metadata": {},
     "output_type": "execute_result"
    }
   ],
   "source": [
    "# Join the data.\n",
    "training_data = tweets.merge(crypto, left_on=\"time\", right_on=\"stamp\")\n",
    "training_data = training_data.set_index(\"tweet_id\")\n",
    "training_data = training_data.loc[:, [\"time\", \"tweet\", \"increase\"]]\n",
    "training_data.tail()"
   ]
  },
  {
   "cell_type": "code",
   "execution_count": 156,
   "metadata": {},
   "outputs": [
    {
     "data": {
      "text/plain": [
       "(338924, 3)"
      ]
     },
     "execution_count": 156,
     "metadata": {},
     "output_type": "execute_result"
    }
   ],
   "source": [
    "# BERT, in chunks."
   ]
  },
  {
   "cell_type": "code",
   "execution_count": null,
   "metadata": {},
   "outputs": [],
   "source": []
  }
 ],
 "metadata": {
  "interpreter": {
   "hash": "4e5788945c2802237ac72a84c772d7bec8af624c1002577fbf4f87a46c8d1d03"
  },
  "kernelspec": {
   "display_name": "Python 3.9.10 ('scholarly_project')",
   "language": "python",
   "name": "python3"
  },
  "language_info": {
   "codemirror_mode": {
    "name": "ipython",
    "version": 3
   },
   "file_extension": ".py",
   "mimetype": "text/x-python",
   "name": "python",
   "nbconvert_exporter": "python",
   "pygments_lexer": "ipython3",
   "version": "3.9.10"
  },
  "orig_nbformat": 4
 },
 "nbformat": 4,
 "nbformat_minor": 2
}
