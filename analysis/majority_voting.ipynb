{
 "cells": [
  {
   "cell_type": "code",
   "execution_count": 83,
   "metadata": {},
   "outputs": [],
   "source": [
    "import pandas as pd\n",
    "import matplotlib.pyplot as plt\n",
    "import numpy as np\n",
    "from sklearn.metrics import confusion_matrix, ConfusionMatrixDisplay"
   ]
  },
  {
   "cell_type": "code",
   "execution_count": 84,
   "metadata": {},
   "outputs": [],
   "source": [
    "# Read in the data.\n",
    "agg = pd.read_csv(\"../data/3_23_agg.csv\")\n",
    "\n",
    "# Create arrays.\n",
    "inc_pred_perc = agg.loc[agg[\"actual\"] == 1, [\"pred_perc\"]].to_numpy().flatten()\n",
    "dec_pred_perc = agg.loc[agg[\"actual\"] == 0, [\"pred_perc\"]].to_numpy().flatten()"
   ]
  },
  {
   "cell_type": "code",
   "execution_count": 85,
   "metadata": {},
   "outputs": [
    {
     "data": {
      "image/png": "[encoded data removed]",
      "text/plain": "<Figure size 432x288 with 1 Axes>"
     },
     "metadata": {
      "needs_background": "light"
     },
     "output_type": "display_data"
    }
   ],
   "source": [
    "# Create a histogram with two distributions.\n",
    "plt.hist([dec_pred_perc, inc_pred_perc], label=[\"dec\", \"inc\"])\n",
    "plt.legend(loc=\"upper right\")\n",
    "plt.show()"
   ]
  },
  {
   "cell_type": "code",
   "execution_count": 87,
   "metadata": {},
   "outputs": [
    {
     "name": "stdout",
     "output_type": "stream",
     "text": [
      "0.45, acc: 0.5392\n",
      "0.50, acc: 0.5392\n",
      "0.55, acc: 0.5482\n",
      "0.60, acc: 0.6024\n",
      "0.65, acc: 0.6386\n",
      "0.70, acc: 0.6596\n",
      "0.75, acc: 0.6717\n",
      "0.80, acc: 0.6958\n",
      "0.85, acc: 0.6988\n",
      "0.90, acc: 0.5843\n"
     ]
    }
   ],
   "source": [
    "cutoffs = np.arange(.45, .95, .05)\n",
    "\n",
    "# Loop.\n",
    "for cutoff in cutoffs:\n",
    "    agg[\"majority_pred\"] = agg[\"pred_perc\"].apply(lambda x: 1 if x > cutoff else 0)\n",
    "    agg[\"diff\"] = agg[\"majority_pred\"] - agg[\"actual\"]\n",
    "    accuracy = agg.loc[agg[\"diff\"] == 0, :].shape[0] / agg.shape[0]\n",
    "    agg.drop(columns=[\"diff\"], inplace=True)\n",
    "    print(f\"{round(cutoff, 2):.2f}, acc: {round(accuracy, 4)}\")\n"
   ]
  },
  {
   "cell_type": "code",
   "execution_count": 88,
   "metadata": {},
   "outputs": [
    {
     "data": {
      "text/plain": "<sklearn.metrics._plot.confusion_matrix.ConfusionMatrixDisplay at 0x7ff7d1b2e910>"
     },
     "execution_count": 88,
     "metadata": {},
     "output_type": "execute_result"
    },
    {
     "data": {
      "image/png": "[encoded data removed]",
      "text/plain": "<Figure size 432x288 with 2 Axes>"
     },
     "metadata": {
      "needs_background": "light"
     },
     "output_type": "display_data"
    }
   ],
   "source": [
    "# Create actual DataFrame with predictions.\n",
    "agg[\"majority_pred\"] = agg[\"pred_perc\"].apply(lambda x: 1 if x > .85 else 0)\n",
    "\n",
    "# Confusion matrix.\n",
    "cm = confusion_matrix(agg[\"actual\"], agg[\"majority_pred\"])\n",
    "ConfusionMatrixDisplay(cm).plot()"
   ]
  },
  {
   "cell_type": "code",
   "execution_count": null,
   "metadata": {},
   "outputs": [],
   "source": []
  }
 ],
 "metadata": {
  "kernelspec": {
   "display_name": "Python 3.9.1 64-bit ('scholarly_project': conda)",
   "name": "python391jvsc74a57bd0bec8622bf30164f87f5685ebe98ae91d7fd7e93d67ef4c01423e53cab45c9e9c"
  },
  "language_info": {
   "codemirror_mode": {
    "name": "ipython",
    "version": 3
   },
   "file_extension": ".py",
   "mimetype": "text/x-python",
   "name": "python",
   "nbconvert_exporter": "python",
   "pygments_lexer": "ipython3",
   "version": "3.9.1"
  },
  "orig_nbformat": 2
 },
 "nbformat": 4,
 "nbformat_minor": 2
}