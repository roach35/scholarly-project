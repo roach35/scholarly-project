{
 "cells": [
  {
   "cell_type": "code",
   "execution_count": 51,
   "metadata": {},
   "outputs": [],
   "source": [
    "import pandas as pd\n",
    "import matplotlib.pyplot as plt\n",
    "from matplotlib import colors\n",
    "import numpy as np\n",
    "from sklearn.metrics import confusion_matrix, ConfusionMatrixDisplay\n",
    "import matplotlib.ticker as mtick"
   ]
  },
  {
   "cell_type": "code",
   "execution_count": 6,
   "metadata": {},
   "outputs": [],
   "source": [
    "# Read in the data.\n",
    "agg = pd.read_csv(\"../data/3_25_agg.csv\")\n",
    "\n",
    "# Create arrays.\n",
    "inc_pred_perc = agg.loc[agg[\"actual\"] == 1, [\"pred_perc\"]].to_numpy().flatten()\n",
    "dec_pred_perc = agg.loc[agg[\"actual\"] == 0, [\"pred_perc\"]].to_numpy().flatten()"
   ]
  },
  {
   "cell_type": "code",
   "execution_count": 8,
   "metadata": {},
   "outputs": [
    {
     "data": {
      "image/png": "[encoded data removed]",
      "text/plain": [
       "<Figure size 432x288 with 1 Axes>"
      ]
     },
     "metadata": {
      "needs_background": "light"
     },
     "output_type": "display_data"
    }
   ],
   "source": [
    "# Create a histogram with two distributions.\n",
    "plt.hist([dec_pred_perc, inc_pred_perc], label=[\"0\", \"1\"])\n",
    "plt.legend(loc=\"upper right\")\n",
    "plt.show()"
   ]
  },
  {
   "cell_type": "code",
   "execution_count": 74,
   "metadata": {},
   "outputs": [
    {
     "data": {
      "image/png": "[encoded data removed]",
      "text/plain": [
       "<Figure size 720x504 with 1 Axes>"
      ]
     },
     "metadata": {
      "needs_background": "light"
     },
     "output_type": "display_data"
    }
   ],
   "source": [
    "# Creating histogram\n",
    "fig, axs = plt.subplots(1, 1,\n",
    "                        figsize =(10, 7),\n",
    "                        tight_layout = True)\n",
    " \n",
    " \n",
    "# Remove axes splines\n",
    "for s in ['top', 'bottom', 'left', 'right']:\n",
    "    axs.spines[s].set_visible(False)\n",
    " \n",
    "# Remove x, y ticks\n",
    "axs.xaxis.set_ticks_position('none')\n",
    "axs.yaxis.set_ticks_position('none')\n",
    "axs.set_yticklabels([])\n",
    "   \n",
    "# Add padding between axes and labels\n",
    "axs.xaxis.set_tick_params(pad = 10)\n",
    " \n",
    "# Add x, y gridlines\n",
    "axs.xaxis.set_major_formatter(mtick.PercentFormatter(1.0, decimals=0))\n",
    " \n",
    "# Creating histogram\n",
    "axs.hist([inc_pred_perc, dec_pred_perc], bins = 10, color=[\"#CEB888\", \"#373A36\"])\n",
    "plt.axvline(x=0.8565, color=\"green\", ymin=0, ymax=.90, ls=\"--\")\n",
    " \n",
    "# Adding extra features   \n",
    "plt.xlabel(\"Majority Voting Cutoff\")\n",
    " \n",
    "# Show plot\n",
    "plt.savefig(\"../data/majority_cutoff.jpeg\", dpi=300)"
   ]
  },
  {
   "cell_type": "code",
   "execution_count": 130,
   "metadata": {},
   "outputs": [
    {
     "name": "stdout",
     "output_type": "stream",
     "text": [
      "0.00, acc: 0.6207\n",
      "0.05, acc: 0.6207\n",
      "0.10, acc: 0.6207\n",
      "0.15, acc: 0.6207\n",
      "0.20, acc: 0.6207\n",
      "0.25, acc: 0.6207\n",
      "0.30, acc: 0.6207\n",
      "0.35, acc: 0.6207\n",
      "0.40, acc: 0.6207\n",
      "0.45, acc: 0.6207\n",
      "0.50, acc: 0.6207\n",
      "0.55, acc: 0.6207\n",
      "0.60, acc: 0.6207\n",
      "0.65, acc: 0.6207\n",
      "0.70, acc: 0.6466\n",
      "0.75, acc: 0.7069\n",
      "0.80, acc: 0.7672\n",
      "0.85, acc: 0.8362\n",
      "0.90, acc: 0.7931\n",
      "0.95, acc: 0.6336\n"
     ]
    }
   ],
   "source": [
    "cutoffs = np.arange(.0, 1.0, .05)\n",
    "\n",
    "# Loop.\n",
    "for cutoff in cutoffs:\n",
    "    agg[\"majority_pred\"] = agg[\"pred_perc\"].apply(lambda x: 1 if x > cutoff else 0)\n",
    "    agg[\"diff\"] = agg[\"majority_pred\"] - agg[\"actual\"]\n",
    "    accuracy = agg.loc[agg[\"diff\"] == 0, :].shape[0] / agg.shape[0]\n",
    "    agg.drop(columns=[\"diff\"], inplace=True)\n",
    "    print(f\"{round(cutoff, 2):.2f}, acc: {round(accuracy, 4)}\")\n"
   ]
  },
  {
   "cell_type": "code",
   "execution_count": 131,
   "metadata": {},
   "outputs": [
    {
     "data": {
      "text/plain": [
       "<sklearn.metrics._plot.confusion_matrix.ConfusionMatrixDisplay at 0x7ff7d509c160>"
      ]
     },
     "execution_count": 131,
     "metadata": {},
     "output_type": "execute_result"
    },
    {
     "data": {
      "image/png": "[encoded data removed]",
      "text/plain": [
       "<Figure size 432x288 with 2 Axes>"
      ]
     },
     "metadata": {
      "needs_background": "light"
     },
     "output_type": "display_data"
    }
   ],
   "source": [
    "# Create actual DataFrame with predictions.\n",
    "agg[\"majority_pred\"] = agg[\"pred_perc\"].apply(lambda x: 1 if x > .85 else 0)\n",
    "\n",
    "# Confusion matrix.\n",
    "cm = confusion_matrix(agg[\"actual\"], agg[\"majority_pred\"])\n",
    "ConfusionMatrixDisplay(cm).plot()"
   ]
  },
  {
   "cell_type": "code",
   "execution_count": null,
   "metadata": {},
   "outputs": [],
   "source": []
  }
 ],
 "metadata": {
  "interpreter": {
   "hash": "2bdd2aff786ee730e31a8b8297cd1305b05f95a583d66a5843c17c50d3b4d232"
  },
  "kernelspec": {
   "display_name": "Python 3.9.1 64-bit ('scholarly_project': conda)",
   "language": "python",
   "name": "python3"
  },
  "language_info": {
   "codemirror_mode": {
    "name": "ipython",
    "version": 3
   },
   "file_extension": ".py",
   "mimetype": "text/x-python",
   "name": "python",
   "nbconvert_exporter": "python",
   "pygments_lexer": "ipython3",
   "version": "3.9.1"
  },
  "orig_nbformat": 2
 },
 "nbformat": 4,
 "nbformat_minor": 2
}
